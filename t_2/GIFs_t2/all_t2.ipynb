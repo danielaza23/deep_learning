{
 "cells": [
  {
   "cell_type": "code",
   "execution_count": 1,
   "id": "e80165bb",
   "metadata": {},
   "outputs": [
    {
     "name": "stdout",
     "output_type": "stream",
     "text": [
      "🧠 PyTorch - GPU disponible: True\n"
     ]
    },
    {
     "name": "stderr",
     "output_type": "stream",
     "text": [
      "2025-06-19 11:20:15.902624: E external/local_xla/xla/stream_executor/cuda/cuda_fft.cc:467] Unable to register cuFFT factory: Attempting to register factory for plugin cuFFT when one has already been registered\n",
      "WARNING: All log messages before absl::InitializeLog() is called are written to STDERR\n",
      "E0000 00:00:1750350015.935944   21236 cuda_dnn.cc:8579] Unable to register cuDNN factory: Attempting to register factory for plugin cuDNN when one has already been registered\n",
      "E0000 00:00:1750350015.945815   21236 cuda_blas.cc:1407] Unable to register cuBLAS factory: Attempting to register factory for plugin cuBLAS when one has already been registered\n",
      "W0000 00:00:1750350015.982904   21236 computation_placer.cc:177] computation placer already registered. Please check linkage and avoid linking the same target more than once.\n",
      "W0000 00:00:1750350015.982944   21236 computation_placer.cc:177] computation placer already registered. Please check linkage and avoid linking the same target more than once.\n",
      "W0000 00:00:1750350015.982945   21236 computation_placer.cc:177] computation placer already registered. Please check linkage and avoid linking the same target more than once.\n",
      "W0000 00:00:1750350015.982947   21236 computation_placer.cc:177] computation placer already registered. Please check linkage and avoid linking the same target more than once.\n",
      "2025-06-19 11:20:15.994667: I tensorflow/core/platform/cpu_feature_guard.cc:210] This TensorFlow binary is optimized to use available CPU instructions in performance-critical operations.\n",
      "To enable the following instructions: AVX2 FMA, in other operations, rebuild TensorFlow with the appropriate compiler flags.\n"
     ]
    },
    {
     "name": "stdout",
     "output_type": "stream",
     "text": [
      "⚙️ TensorFlow - GPU detectada: [PhysicalDevice(name='/physical_device:GPU:0', device_type='GPU')]\n"
     ]
    }
   ],
   "source": [
    "import torch\n",
    "print(\"🧠 PyTorch - GPU disponible:\", torch.cuda.is_available())\n",
    "\n",
    "import tensorflow as tf\n",
    "print(\"⚙️ TensorFlow - GPU detectada:\", tf.config.list_physical_devices('GPU'))\n"
   ]
  },
  {
   "cell_type": "code",
   "execution_count": 1,
   "id": "d3a1e162",
   "metadata": {},
   "outputs": [
    {
     "name": "stderr",
     "output_type": "stream",
     "text": [
      "WARNING: All log messages before absl::InitializeLog() is called are written to STDERR\n",
      "E0000 00:00:1750380785.120103  106465 cuda_dnn.cc:8579] Unable to register cuDNN factory: Attempting to register factory for plugin cuDNN when one has already been registered\n",
      "E0000 00:00:1750380785.149928  106465 cuda_blas.cc:1407] Unable to register cuBLAS factory: Attempting to register factory for plugin cuBLAS when one has already been registered\n",
      "W0000 00:00:1750380785.366392  106465 computation_placer.cc:177] computation placer already registered. Please check linkage and avoid linking the same target more than once.\n",
      "W0000 00:00:1750380785.366425  106465 computation_placer.cc:177] computation placer already registered. Please check linkage and avoid linking the same target more than once.\n",
      "W0000 00:00:1750380785.366426  106465 computation_placer.cc:177] computation placer already registered. Please check linkage and avoid linking the same target more than once.\n",
      "W0000 00:00:1750380785.366428  106465 computation_placer.cc:177] computation placer already registered. Please check linkage and avoid linking the same target more than once.\n"
     ]
    }
   ],
   "source": [
    "import os\n",
    "os.environ['TF_CPP_MIN_LOG_LEVEL'] = '3'  # Solo errores, no warnings ni info\n",
    "\n",
    "# === Módulos estándar ===\n",
    "import numpy as np\n",
    "import random\n",
    "import time\n",
    "\n",
    "# === Keras ===\n",
    "import tensorflow as tf\n",
    "from tensorflow.keras.models import Sequential # type: ignore\n",
    "from tensorflow.keras.layers import Dense, Input # type: ignore\n",
    "from tensorflow.keras.initializers import GlorotUniform # type: ignore\n",
    "from tensorflow.keras.optimizers import SGD as KSGD, Adam as KAdam # type: ignore\n",
    "from tensorflow.keras.losses import SparseCategoricalCrossentropy # type: ignore\n",
    "\n",
    "# === PyTorch ===\n",
    "import torch\n",
    "import torch.nn as nn\n",
    "import torch.nn.functional as F\n",
    "import torch.optim as optim\n",
    "\n",
    "# === Sklearn ===\n",
    "from sklearn.neural_network import MLPClassifier\n",
    "\n",
    "# === other imports ===\n",
    "import numpy as np, csv, os, time, itertools\n",
    "from tensorflow.keras.datasets import cifar10\n",
    "import matplotlib.pyplot as plt\n",
    "import glob, os, math, io, imageio, pandas as pd\n",
    "from tqdm import tqdm"
   ]
  },
  {
   "cell_type": "code",
   "execution_count": 3,
   "id": "12b66e46",
   "metadata": {},
   "outputs": [],
   "source": [
    "def make_model(framework, seed):\n",
    "    random.seed(seed)\n",
    "    np.random.seed(seed)\n",
    "\n",
    "    if framework == \"keras\":\n",
    "        tf.random.set_seed(seed)\n",
    "        model = Sequential([\n",
    "            Dense(1024, activation='relu', kernel_initializer=GlorotUniform(seed), input_shape=(32*32*3,)),\n",
    "            Dense(512,  activation='relu', kernel_initializer=GlorotUniform(seed)),\n",
    "            Dense(256,  activation='relu', kernel_initializer=GlorotUniform(seed)),\n",
    "            Dense(128,  activation='relu', kernel_initializer=GlorotUniform(seed)),\n",
    "            Dense(10,   activation='softmax',  # ← salida softmax, 5.ª capa\n",
    "                kernel_initializer=GlorotUniform(seed))\n",
    "        ])\n",
    "        return model\n",
    "\n",
    "\n",
    "    elif framework == \"torch\":\n",
    "        torch.manual_seed(seed)\n",
    "        model = nn.Sequential(\n",
    "            nn.Linear(3072, 1024), nn.ReLU(),   \n",
    "            nn.Linear(1024, 512),  nn.ReLU(),   \n",
    "            nn.Linear(512, 256),   nn.ReLU(),   \n",
    "            nn.Linear(256, 128),   nn.ReLU(),   \n",
    "            nn.Linear(128, 10)                 \n",
    "        )\n",
    "        return model\n",
    "\n",
    "\n",
    "    elif framework == \"sklearn\":\n",
    "        model = MLPClassifier(\n",
    "            hidden_layer_sizes=(1024, 512, 256, 128),\n",
    "            activation='relu',\n",
    "            solver='adam',\n",
    "            max_iter=1,\n",
    "            random_state=seed\n",
    "        )\n",
    "        return model\n",
    "\n",
    "    else:\n",
    "        raise ValueError(f\"Framework '{framework}' no soportado.\")\n"
   ]
  },
  {
   "cell_type": "code",
   "execution_count": 4,
   "id": "6cfed77d",
   "metadata": {},
   "outputs": [],
   "source": [
    "import os, time, numpy as np\n",
    "from tensorflow.keras.losses import SparseCategoricalCrossentropy\n",
    "from tensorflow.keras.optimizers import SGD as KSGD, Adam as KAdam\n",
    "import torch.nn as nn, torch.optim as optim, torch\n",
    "from sklearn.neural_network import MLPClassifier\n",
    "import joblib\n",
    "\n",
    "def train_network(network, X, y, optimizer, learning_rate, batch_size, timeout):\n",
    "    results = []\n",
    "    start_time = time.time()\n",
    "\n",
    "    # Crea carpeta si no existe\n",
    "    os.makedirs(\"models\", exist_ok=True)\n",
    "\n",
    "    # Etiqueta común para el archivo\n",
    "    tag = f\"{optimizer}_bs{batch_size}_lr{learning_rate}\"\n",
    "\n",
    "    print(f\"🔍 Detectando tipo de red: {type(network)}\")\n",
    "\n",
    "    # ================ KERAS ================\n",
    "    try:\n",
    "        if hasattr(network, \"train_on_batch\") and hasattr(network, \"compile\"):\n",
    "            print(\"✅ Red Keras detectada. Iniciando entrenamiento…\")\n",
    "            network.compile(\n",
    "                optimizer=KAdam(learning_rate) if optimizer == \"adam\" else KSGD(learning_rate),\n",
    "                loss=SparseCategoricalCrossentropy(),\n",
    "            )\n",
    "\n",
    "            num_samples = X.shape[0]\n",
    "            while True:\n",
    "                if time.time() - start_time >= timeout - 0.1:\n",
    "                    break\n",
    "                idx = np.random.choice(num_samples, batch_size, replace=False)\n",
    "                loss = network.train_on_batch(X[idx], y[idx])\n",
    "                elapsed = round(time.time() - start_time, 4)\n",
    "                results.append((elapsed, float(loss)))\n",
    "\n",
    "            # ─── Guardar modelo ───\n",
    "            path = f\"models/keras_{tag}.keras\"\n",
    "            network.save(path)\n",
    "            print(f\"💾 Modelo Keras guardado en {path}\")\n",
    "            return results\n",
    "    except Exception as e:\n",
    "        print(\"❌ Error en bloque Keras:\", e)\n",
    "\n",
    "    # ================ PYTORCH ================\n",
    "    try:\n",
    "        if isinstance(network, nn.Module):\n",
    "            print(\"✅ Red PyTorch detectada. Iniciando entrenamiento…\")\n",
    "            device = torch.device(\"cuda\" if torch.cuda.is_available() else \"cpu\")\n",
    "            network.to(device).train()\n",
    "\n",
    "            X_tensor = torch.tensor(X, dtype=torch.float32).to(device)\n",
    "            y_tensor = torch.tensor(y, dtype=torch.long).to(device)\n",
    "            opt      = optim.Adam(network.parameters(), lr=learning_rate) if optimizer == \"adam\" else optim.SGD(network.parameters(), lr=learning_rate)\n",
    "            loss_fn  = nn.CrossEntropyLoss()\n",
    "\n",
    "            num_samples = X.shape[0]\n",
    "            while True:\n",
    "                if time.time() - start_time >= timeout - 0.1:\n",
    "                    break\n",
    "                idx = np.random.choice(num_samples, batch_size, replace=False)\n",
    "                opt.zero_grad()\n",
    "                loss = loss_fn(network(X_tensor[idx]), y_tensor[idx])\n",
    "                loss.backward(); opt.step()\n",
    "                elapsed = round(time.time() - start_time, 4)\n",
    "                results.append((elapsed, float(loss.item())))\n",
    "\n",
    "            # ─── Guardar modelo ───\n",
    "            path = f\"models/torch_{tag}.pt\"\n",
    "            torch.save(network.state_dict(), path)\n",
    "            print(f\"💾 Modelo PyTorch guardado en {path}\")\n",
    "            return results\n",
    "    except Exception as e:\n",
    "        print(\"❌ Error en bloque PyTorch:\", e)\n",
    "\n",
    "    # ================ SKLEARN ================\n",
    "    try:\n",
    "        if isinstance(network, MLPClassifier):\n",
    "            print(\"✅ Red sklearn detectada. Iniciando entrenamiento…\")\n",
    "            num_samples = X.shape[0]\n",
    "            classes     = np.unique(y)\n",
    "            while True:\n",
    "                if time.time() - start_time >= timeout - 0.1:\n",
    "                    break\n",
    "                idx = np.random.choice(num_samples, batch_size, replace=False)\n",
    "                network.partial_fit(X[idx], y[idx], classes=classes)\n",
    "\n",
    "                # estimar pérdida\n",
    "                probs = network.predict_proba(X[idx])\n",
    "                loss  = -np.mean(np.log(probs + 1e-9)[np.arange(len(idx)), y[idx]])\n",
    "                elapsed = round(time.time() - start_time, 4)\n",
    "                results.append((elapsed, float(loss)))\n",
    "\n",
    "            # ─── Guardar modelo ───\n",
    "            path = f\"models/sklearn_{tag}.pkl\"\n",
    "            joblib.dump(network, path)\n",
    "            print(f\"💾 Modelo sklearn guardado en {path}\")\n",
    "            return results\n",
    "    except Exception as e:\n",
    "        print(\"❌ Error en bloque sklearn:\", e)\n",
    "\n",
    "    print(\"⚠️ Ningún framework compatible fue detectado.\")\n",
    "    raise ValueError(f\"Tipo de red no reconocido: {type(network)}\")\n"
   ]
  },
  {
   "cell_type": "code",
   "execution_count": 5,
   "id": "c4d2323a",
   "metadata": {},
   "outputs": [
    {
     "name": "stdout",
     "output_type": "stream",
     "text": [
      "▶️  Ejecutando keras_bs16_sgd_lr0.001\n"
     ]
    },
    {
     "name": "stderr",
     "output_type": "stream",
     "text": [
      "/home/pipe/anaconda3/envs/deeplearning/lib/python3.10/site-packages/keras/src/layers/core/dense.py:93: UserWarning: Do not pass an `input_shape`/`input_dim` argument to a layer. When using Sequential models, prefer using an `Input(shape)` object as the first layer in the model instead.\n",
      "  super().__init__(activity_regularizer=activity_regularizer, **kwargs)\n",
      "I0000 00:00:1750350023.345365   21236 gpu_device.cc:2019] Created device /job:localhost/replica:0/task:0/device:GPU:0 with 1800 MB memory:  -> device: 0, name: NVIDIA GeForce GTX 1650, pci bus id: 0000:01:00.0, compute capability: 7.5\n"
     ]
    },
    {
     "name": "stdout",
     "output_type": "stream",
     "text": [
      "🔍 Detectando tipo de red: <class 'keras.src.models.sequential.Sequential'>\n",
      "✅ Red Keras detectada. Iniciando entrenamiento…\n"
     ]
    },
    {
     "name": "stderr",
     "output_type": "stream",
     "text": [
      "WARNING: All log messages before absl::InitializeLog() is called are written to STDERR\n",
      "I0000 00:00:1750350025.891445   21236 service.cc:152] XLA service 0x1fb37830 initialized for platform CUDA (this does not guarantee that XLA will be used). Devices:\n",
      "I0000 00:00:1750350025.891539   21236 service.cc:160]   StreamExecutor device (0): NVIDIA GeForce GTX 1650, Compute Capability 7.5\n",
      "2025-06-19 11:20:25.900487: I tensorflow/compiler/mlir/tensorflow/utils/dump_mlir_util.cc:269] disabling MLIR crash reproducer, set env var `MLIR_CRASH_REPRODUCER_DIRECTORY` to enable.\n",
      "I0000 00:00:1750350026.010754   21236 cuda_dnn.cc:529] Loaded cuDNN version 90300\n",
      "I0000 00:00:1750350027.401987   21236 device_compiler.h:188] Compiled cluster using XLA!  This line is logged at most once for the lifetime of the process.\n"
     ]
    },
    {
     "name": "stdout",
     "output_type": "stream",
     "text": [
      "💾 Modelo Keras guardado en models/keras_sgd_bs16_lr0.001.keras\n",
      "▶️  Ejecutando keras_bs16_sgd_lr0.0005\n",
      "🔍 Detectando tipo de red: <class 'keras.src.models.sequential.Sequential'>\n",
      "✅ Red Keras detectada. Iniciando entrenamiento…\n",
      "💾 Modelo Keras guardado en models/keras_sgd_bs16_lr0.0005.keras\n",
      "▶️  Ejecutando keras_bs16_adam_lr0.001\n",
      "🔍 Detectando tipo de red: <class 'keras.src.models.sequential.Sequential'>\n",
      "✅ Red Keras detectada. Iniciando entrenamiento…\n",
      "💾 Modelo Keras guardado en models/keras_adam_bs16_lr0.001.keras\n",
      "▶️  Ejecutando keras_bs16_adam_lr0.0005\n",
      "🔍 Detectando tipo de red: <class 'keras.src.models.sequential.Sequential'>\n",
      "✅ Red Keras detectada. Iniciando entrenamiento…\n",
      "💾 Modelo Keras guardado en models/keras_adam_bs16_lr0.0005.keras\n",
      "▶️  Ejecutando keras_bs64_sgd_lr0.001\n",
      "🔍 Detectando tipo de red: <class 'keras.src.models.sequential.Sequential'>\n",
      "✅ Red Keras detectada. Iniciando entrenamiento…\n",
      "💾 Modelo Keras guardado en models/keras_sgd_bs64_lr0.001.keras\n",
      "▶️  Ejecutando keras_bs64_sgd_lr0.0005\n",
      "🔍 Detectando tipo de red: <class 'keras.src.models.sequential.Sequential'>\n",
      "✅ Red Keras detectada. Iniciando entrenamiento…\n",
      "💾 Modelo Keras guardado en models/keras_sgd_bs64_lr0.0005.keras\n",
      "▶️  Ejecutando keras_bs64_adam_lr0.001\n",
      "🔍 Detectando tipo de red: <class 'keras.src.models.sequential.Sequential'>\n",
      "✅ Red Keras detectada. Iniciando entrenamiento…\n",
      "💾 Modelo Keras guardado en models/keras_adam_bs64_lr0.001.keras\n",
      "▶️  Ejecutando keras_bs64_adam_lr0.0005\n",
      "🔍 Detectando tipo de red: <class 'keras.src.models.sequential.Sequential'>\n",
      "✅ Red Keras detectada. Iniciando entrenamiento…\n",
      "💾 Modelo Keras guardado en models/keras_adam_bs64_lr0.0005.keras\n",
      "▶️  Ejecutando keras_bs256_sgd_lr0.001\n",
      "🔍 Detectando tipo de red: <class 'keras.src.models.sequential.Sequential'>\n",
      "✅ Red Keras detectada. Iniciando entrenamiento…\n",
      "💾 Modelo Keras guardado en models/keras_sgd_bs256_lr0.001.keras\n",
      "▶️  Ejecutando keras_bs256_sgd_lr0.0005\n",
      "🔍 Detectando tipo de red: <class 'keras.src.models.sequential.Sequential'>\n",
      "✅ Red Keras detectada. Iniciando entrenamiento…\n",
      "💾 Modelo Keras guardado en models/keras_sgd_bs256_lr0.0005.keras\n",
      "▶️  Ejecutando keras_bs256_adam_lr0.001\n",
      "🔍 Detectando tipo de red: <class 'keras.src.models.sequential.Sequential'>\n",
      "✅ Red Keras detectada. Iniciando entrenamiento…\n",
      "💾 Modelo Keras guardado en models/keras_adam_bs256_lr0.001.keras\n",
      "▶️  Ejecutando keras_bs256_adam_lr0.0005\n",
      "🔍 Detectando tipo de red: <class 'keras.src.models.sequential.Sequential'>\n",
      "✅ Red Keras detectada. Iniciando entrenamiento…\n",
      "💾 Modelo Keras guardado en models/keras_adam_bs256_lr0.0005.keras\n",
      "▶️  Ejecutando keras_bs2048_sgd_lr0.001\n",
      "🔍 Detectando tipo de red: <class 'keras.src.models.sequential.Sequential'>\n",
      "✅ Red Keras detectada. Iniciando entrenamiento…\n",
      "💾 Modelo Keras guardado en models/keras_sgd_bs2048_lr0.001.keras\n",
      "▶️  Ejecutando keras_bs2048_sgd_lr0.0005\n",
      "🔍 Detectando tipo de red: <class 'keras.src.models.sequential.Sequential'>\n",
      "✅ Red Keras detectada. Iniciando entrenamiento…\n",
      "💾 Modelo Keras guardado en models/keras_sgd_bs2048_lr0.0005.keras\n",
      "▶️  Ejecutando keras_bs2048_adam_lr0.001\n",
      "🔍 Detectando tipo de red: <class 'keras.src.models.sequential.Sequential'>\n",
      "✅ Red Keras detectada. Iniciando entrenamiento…\n",
      "💾 Modelo Keras guardado en models/keras_adam_bs2048_lr0.001.keras\n",
      "▶️  Ejecutando keras_bs2048_adam_lr0.0005\n",
      "🔍 Detectando tipo de red: <class 'keras.src.models.sequential.Sequential'>\n",
      "✅ Red Keras detectada. Iniciando entrenamiento…\n",
      "💾 Modelo Keras guardado en models/keras_adam_bs2048_lr0.0005.keras\n",
      "▶️  Ejecutando torch_bs16_sgd_lr0.001\n",
      "🔍 Detectando tipo de red: <class 'torch.nn.modules.container.Sequential'>\n",
      "✅ Red PyTorch detectada. Iniciando entrenamiento…\n",
      "💾 Modelo PyTorch guardado en models/torch_sgd_bs16_lr0.001.pt\n",
      "▶️  Ejecutando torch_bs16_sgd_lr0.0005\n",
      "🔍 Detectando tipo de red: <class 'torch.nn.modules.container.Sequential'>\n",
      "✅ Red PyTorch detectada. Iniciando entrenamiento…\n",
      "💾 Modelo PyTorch guardado en models/torch_sgd_bs16_lr0.0005.pt\n",
      "▶️  Ejecutando torch_bs16_adam_lr0.001\n",
      "🔍 Detectando tipo de red: <class 'torch.nn.modules.container.Sequential'>\n",
      "✅ Red PyTorch detectada. Iniciando entrenamiento…\n",
      "💾 Modelo PyTorch guardado en models/torch_adam_bs16_lr0.001.pt\n",
      "▶️  Ejecutando torch_bs16_adam_lr0.0005\n",
      "🔍 Detectando tipo de red: <class 'torch.nn.modules.container.Sequential'>\n",
      "✅ Red PyTorch detectada. Iniciando entrenamiento…\n",
      "💾 Modelo PyTorch guardado en models/torch_adam_bs16_lr0.0005.pt\n",
      "▶️  Ejecutando torch_bs64_sgd_lr0.001\n",
      "🔍 Detectando tipo de red: <class 'torch.nn.modules.container.Sequential'>\n",
      "✅ Red PyTorch detectada. Iniciando entrenamiento…\n",
      "💾 Modelo PyTorch guardado en models/torch_sgd_bs64_lr0.001.pt\n",
      "▶️  Ejecutando torch_bs64_sgd_lr0.0005\n",
      "🔍 Detectando tipo de red: <class 'torch.nn.modules.container.Sequential'>\n",
      "✅ Red PyTorch detectada. Iniciando entrenamiento…\n",
      "💾 Modelo PyTorch guardado en models/torch_sgd_bs64_lr0.0005.pt\n",
      "▶️  Ejecutando torch_bs64_adam_lr0.001\n",
      "🔍 Detectando tipo de red: <class 'torch.nn.modules.container.Sequential'>\n",
      "✅ Red PyTorch detectada. Iniciando entrenamiento…\n",
      "💾 Modelo PyTorch guardado en models/torch_adam_bs64_lr0.001.pt\n",
      "▶️  Ejecutando torch_bs64_adam_lr0.0005\n",
      "🔍 Detectando tipo de red: <class 'torch.nn.modules.container.Sequential'>\n",
      "✅ Red PyTorch detectada. Iniciando entrenamiento…\n",
      "💾 Modelo PyTorch guardado en models/torch_adam_bs64_lr0.0005.pt\n",
      "▶️  Ejecutando torch_bs256_sgd_lr0.001\n",
      "🔍 Detectando tipo de red: <class 'torch.nn.modules.container.Sequential'>\n",
      "✅ Red PyTorch detectada. Iniciando entrenamiento…\n",
      "💾 Modelo PyTorch guardado en models/torch_sgd_bs256_lr0.001.pt\n",
      "▶️  Ejecutando torch_bs256_sgd_lr0.0005\n",
      "🔍 Detectando tipo de red: <class 'torch.nn.modules.container.Sequential'>\n",
      "✅ Red PyTorch detectada. Iniciando entrenamiento…\n",
      "💾 Modelo PyTorch guardado en models/torch_sgd_bs256_lr0.0005.pt\n",
      "▶️  Ejecutando torch_bs256_adam_lr0.001\n",
      "🔍 Detectando tipo de red: <class 'torch.nn.modules.container.Sequential'>\n",
      "✅ Red PyTorch detectada. Iniciando entrenamiento…\n",
      "💾 Modelo PyTorch guardado en models/torch_adam_bs256_lr0.001.pt\n",
      "▶️  Ejecutando torch_bs256_adam_lr0.0005\n",
      "🔍 Detectando tipo de red: <class 'torch.nn.modules.container.Sequential'>\n",
      "✅ Red PyTorch detectada. Iniciando entrenamiento…\n",
      "💾 Modelo PyTorch guardado en models/torch_adam_bs256_lr0.0005.pt\n",
      "▶️  Ejecutando torch_bs2048_sgd_lr0.001\n",
      "🔍 Detectando tipo de red: <class 'torch.nn.modules.container.Sequential'>\n",
      "✅ Red PyTorch detectada. Iniciando entrenamiento…\n",
      "💾 Modelo PyTorch guardado en models/torch_sgd_bs2048_lr0.001.pt\n",
      "▶️  Ejecutando torch_bs2048_sgd_lr0.0005\n",
      "🔍 Detectando tipo de red: <class 'torch.nn.modules.container.Sequential'>\n",
      "✅ Red PyTorch detectada. Iniciando entrenamiento…\n",
      "💾 Modelo PyTorch guardado en models/torch_sgd_bs2048_lr0.0005.pt\n",
      "▶️  Ejecutando torch_bs2048_adam_lr0.001\n",
      "🔍 Detectando tipo de red: <class 'torch.nn.modules.container.Sequential'>\n",
      "✅ Red PyTorch detectada. Iniciando entrenamiento…\n",
      "💾 Modelo PyTorch guardado en models/torch_adam_bs2048_lr0.001.pt\n",
      "▶️  Ejecutando torch_bs2048_adam_lr0.0005\n",
      "🔍 Detectando tipo de red: <class 'torch.nn.modules.container.Sequential'>\n",
      "✅ Red PyTorch detectada. Iniciando entrenamiento…\n",
      "💾 Modelo PyTorch guardado en models/torch_adam_bs2048_lr0.0005.pt\n",
      "▶️  Ejecutando sklearn_bs16_sgd_lr0.001\n",
      "🔍 Detectando tipo de red: <class 'sklearn.neural_network._multilayer_perceptron.MLPClassifier'>\n",
      "✅ Red sklearn detectada. Iniciando entrenamiento…\n",
      "💾 Modelo sklearn guardado en models/sklearn_sgd_bs16_lr0.001.pkl\n",
      "▶️  Ejecutando sklearn_bs16_sgd_lr0.0005\n",
      "🔍 Detectando tipo de red: <class 'sklearn.neural_network._multilayer_perceptron.MLPClassifier'>\n",
      "✅ Red sklearn detectada. Iniciando entrenamiento…\n",
      "💾 Modelo sklearn guardado en models/sklearn_sgd_bs16_lr0.0005.pkl\n",
      "▶️  Ejecutando sklearn_bs16_adam_lr0.001\n",
      "🔍 Detectando tipo de red: <class 'sklearn.neural_network._multilayer_perceptron.MLPClassifier'>\n",
      "✅ Red sklearn detectada. Iniciando entrenamiento…\n",
      "💾 Modelo sklearn guardado en models/sklearn_adam_bs16_lr0.001.pkl\n",
      "▶️  Ejecutando sklearn_bs16_adam_lr0.0005\n",
      "🔍 Detectando tipo de red: <class 'sklearn.neural_network._multilayer_perceptron.MLPClassifier'>\n",
      "✅ Red sklearn detectada. Iniciando entrenamiento…\n",
      "💾 Modelo sklearn guardado en models/sklearn_adam_bs16_lr0.0005.pkl\n",
      "▶️  Ejecutando sklearn_bs64_sgd_lr0.001\n",
      "🔍 Detectando tipo de red: <class 'sklearn.neural_network._multilayer_perceptron.MLPClassifier'>\n",
      "✅ Red sklearn detectada. Iniciando entrenamiento…\n",
      "💾 Modelo sklearn guardado en models/sklearn_sgd_bs64_lr0.001.pkl\n",
      "▶️  Ejecutando sklearn_bs64_sgd_lr0.0005\n",
      "🔍 Detectando tipo de red: <class 'sklearn.neural_network._multilayer_perceptron.MLPClassifier'>\n",
      "✅ Red sklearn detectada. Iniciando entrenamiento…\n",
      "💾 Modelo sklearn guardado en models/sklearn_sgd_bs64_lr0.0005.pkl\n",
      "▶️  Ejecutando sklearn_bs64_adam_lr0.001\n",
      "🔍 Detectando tipo de red: <class 'sklearn.neural_network._multilayer_perceptron.MLPClassifier'>\n",
      "✅ Red sklearn detectada. Iniciando entrenamiento…\n",
      "💾 Modelo sklearn guardado en models/sklearn_adam_bs64_lr0.001.pkl\n",
      "▶️  Ejecutando sklearn_bs64_adam_lr0.0005\n",
      "🔍 Detectando tipo de red: <class 'sklearn.neural_network._multilayer_perceptron.MLPClassifier'>\n",
      "✅ Red sklearn detectada. Iniciando entrenamiento…\n",
      "💾 Modelo sklearn guardado en models/sklearn_adam_bs64_lr0.0005.pkl\n",
      "▶️  Ejecutando sklearn_bs256_sgd_lr0.001\n",
      "🔍 Detectando tipo de red: <class 'sklearn.neural_network._multilayer_perceptron.MLPClassifier'>\n",
      "✅ Red sklearn detectada. Iniciando entrenamiento…\n",
      "💾 Modelo sklearn guardado en models/sklearn_sgd_bs256_lr0.001.pkl\n",
      "▶️  Ejecutando sklearn_bs256_sgd_lr0.0005\n",
      "🔍 Detectando tipo de red: <class 'sklearn.neural_network._multilayer_perceptron.MLPClassifier'>\n",
      "✅ Red sklearn detectada. Iniciando entrenamiento…\n",
      "💾 Modelo sklearn guardado en models/sklearn_sgd_bs256_lr0.0005.pkl\n",
      "▶️  Ejecutando sklearn_bs256_adam_lr0.001\n",
      "🔍 Detectando tipo de red: <class 'sklearn.neural_network._multilayer_perceptron.MLPClassifier'>\n",
      "✅ Red sklearn detectada. Iniciando entrenamiento…\n",
      "💾 Modelo sklearn guardado en models/sklearn_adam_bs256_lr0.001.pkl\n",
      "▶️  Ejecutando sklearn_bs256_adam_lr0.0005\n",
      "🔍 Detectando tipo de red: <class 'sklearn.neural_network._multilayer_perceptron.MLPClassifier'>\n",
      "✅ Red sklearn detectada. Iniciando entrenamiento…\n",
      "💾 Modelo sklearn guardado en models/sklearn_adam_bs256_lr0.0005.pkl\n",
      "▶️  Ejecutando sklearn_bs2048_sgd_lr0.001\n",
      "🔍 Detectando tipo de red: <class 'sklearn.neural_network._multilayer_perceptron.MLPClassifier'>\n",
      "✅ Red sklearn detectada. Iniciando entrenamiento…\n",
      "💾 Modelo sklearn guardado en models/sklearn_sgd_bs2048_lr0.001.pkl\n",
      "▶️  Ejecutando sklearn_bs2048_sgd_lr0.0005\n",
      "🔍 Detectando tipo de red: <class 'sklearn.neural_network._multilayer_perceptron.MLPClassifier'>\n",
      "✅ Red sklearn detectada. Iniciando entrenamiento…\n",
      "💾 Modelo sklearn guardado en models/sklearn_sgd_bs2048_lr0.0005.pkl\n",
      "▶️  Ejecutando sklearn_bs2048_adam_lr0.001\n",
      "🔍 Detectando tipo de red: <class 'sklearn.neural_network._multilayer_perceptron.MLPClassifier'>\n",
      "✅ Red sklearn detectada. Iniciando entrenamiento…\n",
      "💾 Modelo sklearn guardado en models/sklearn_adam_bs2048_lr0.001.pkl\n",
      "▶️  Ejecutando sklearn_bs2048_adam_lr0.0005\n",
      "🔍 Detectando tipo de red: <class 'sklearn.neural_network._multilayer_perceptron.MLPClassifier'>\n",
      "✅ Red sklearn detectada. Iniciando entrenamiento…\n",
      "💾 Modelo sklearn guardado en models/sklearn_adam_bs2048_lr0.0005.pkl\n"
     ]
    }
   ],
   "source": [
    "# --- carga CIFAR-10 y aplana ---\n",
    "(X_tr, y_tr), _ = cifar10.load_data()\n",
    "X_tr = X_tr.reshape((X_tr.shape[0], -1)).astype(\"float32\") / 255.0\n",
    "y_tr = y_tr.flatten()\n",
    "\n",
    "\n",
    "frameworks  = [\"keras\", \"torch\", \"sklearn\"]\n",
    "batch_sizes = [16, 64, 256, 2048]\n",
    "optimizers  = [\"sgd\", \"adam\"]\n",
    "lrs         = [0.001, 0.0005]\n",
    "\n",
    "out_dir = \"csv_logs\";  os.makedirs(out_dir, exist_ok=True)\n",
    "\n",
    "for fw, bs, opt, lr in itertools.product(frameworks, batch_sizes, optimizers, lrs):\n",
    "    tag = f\"{fw}_bs{bs}_{opt}_lr{lr}\"\n",
    "    print(\"▶️  Ejecutando\", tag, flush=True)\n",
    "\n",
    "    model = make_model(fw, seed=7)\n",
    "    results = train_network(model, X_tr, y_tr,\n",
    "                            optimizer=opt,\n",
    "                            learning_rate=lr,\n",
    "                            batch_size=bs,\n",
    "                            timeout=600)     # 10 min\n",
    "\n",
    "    with open(os.path.join(out_dir, tag + \".csv\"), \"w\", newline=\"\") as f:\n",
    "        wr = csv.writer(f)\n",
    "        wr.writerow([\"time_s\", \"loss\"])\n",
    "        wr.writerows(results)\n"
   ]
  },
  {
   "cell_type": "code",
   "execution_count": 2,
   "id": "2cb842ae",
   "metadata": {},
   "outputs": [],
   "source": [
    "import glob, os, io, math, imageio, pandas as pd, numpy as np\n",
    "import matplotlib.pyplot as plt\n",
    "from tqdm import tqdm\n",
    "\n",
    "def smooth(arr, k=30):\n",
    "    \"\"\"Media móvil (mantiene longitud) con pandas.\"\"\"\n",
    "    return pd.Series(arr).rolling(window=k, min_periods=1).mean().values\n",
    "\n",
    "def gif_config_progress(config_tag, n_frames=200, fps=12, y_max=5):\n",
    "    \"\"\"\n",
    "    Genera un GIF comparando Keras, PyTorch y sklearn para la misma configuración\n",
    "    sin acumular frames completos en RAM.\n",
    "    \"\"\"\n",
    "    FRAMEWORKS = [\"keras\", \"torch\", \"sklearn\"]\n",
    "    curves, max_time = [], 0\n",
    "    for fw in FRAMEWORKS:\n",
    "        path = f\"csv_logs/{fw}_{config_tag}.csv\"\n",
    "        if not os.path.exists(path):\n",
    "            print(f\"⚠️  Falta {path} (se omitirá)\")\n",
    "            continue\n",
    "        df = pd.read_csv(path)\n",
    "        t, l = df[\"time_s\"].values, df[\"loss\"].values\n",
    "        curves.append((fw.capitalize(), t, l))\n",
    "        max_time = max(max_time, t[-1])\n",
    "\n",
    "    if len(curves) < 2:\n",
    "        print(\"❌ Se necesitan al menos 2 frameworks para comparar.\")\n",
    "        return\n",
    "\n",
    "    frame_times = np.linspace(0, max_time, n_frames)\n",
    "    gif_name = f\"compare_{config_tag}.gif\"\n",
    "\n",
    "    print(f\"🎞️  Generando {n_frames} frames para {config_tag}…\")\n",
    "    with imageio.get_writer(gif_name, mode=\"I\", fps=fps) as writer:\n",
    "        for t_cut in tqdm(frame_times):\n",
    "            fig, ax = plt.subplots(figsize=(8, 5))\n",
    "            for label, t, l in curves:\n",
    "                idx = np.searchsorted(t, t_cut, side=\"right\")\n",
    "                if idx > 1:\n",
    "                    l_smooth = smooth(l[:idx])\n",
    "                    ax.plot(t[:idx], l_smooth, label=label, linewidth=2)\n",
    "\n",
    "            ax.set(xlim=(0, math.ceil(max_time)),\n",
    "                   ylim=(0, y_max),\n",
    "                   xlabel=\"Tiempo [s]\",\n",
    "                   ylabel=\"Pérdida\",\n",
    "                   title=f\"Comparación de frameworks – {config_tag} – t={t_cut:0.1f}s\")\n",
    "            ax.grid(alpha=0.3)\n",
    "            ax.legend(fontsize=10)\n",
    "            fig.tight_layout()\n",
    "\n",
    "            # ─── Guardar la figura en buffer y escribirla directo al GIF ───\n",
    "            buf = io.BytesIO()\n",
    "            fig.savefig(buf, format=\"png\")\n",
    "            plt.close(fig)          # libera memoria de la figura\n",
    "            buf.seek(0)\n",
    "            writer.append_data(imageio.v2.imread(buf))\n",
    "            buf.close()             # libera el buffer PNG\n",
    "\n",
    "    print(\"✅ GIF guardado en\", gif_name)\n"
   ]
  },
  {
   "cell_type": "code",
   "execution_count": 5,
   "id": "432269d3",
   "metadata": {},
   "outputs": [
    {
     "name": "stdout",
     "output_type": "stream",
     "text": [
      "\n",
      "🟢 Creando GIF para bs16_sgd_lr0.001\n",
      "🎞️  Generando 10 frames para bs16_sgd_lr0.001…\n"
     ]
    },
    {
     "name": "stderr",
     "output_type": "stream",
     "text": [
      "  0%|          | 0/10 [00:00<?, ?it/s]/tmp/ipykernel_106465/881416245.py:49: UserWarning: No artists with labels found to put in legend.  Note that artists whose label start with an underscore are ignored when legend() is called with no argument.\n",
      "  ax.legend(fontsize=10)\n",
      "100%|██████████| 10/10 [00:02<00:00,  4.95it/s]\n"
     ]
    },
    {
     "name": "stdout",
     "output_type": "stream",
     "text": [
      "✅ GIF guardado en compare_bs16_sgd_lr0.001.gif\n",
      "\n",
      "🟢 Creando GIF para bs16_sgd_lr0.0005\n",
      "🎞️  Generando 10 frames para bs16_sgd_lr0.0005…\n"
     ]
    },
    {
     "name": "stderr",
     "output_type": "stream",
     "text": [
      "  0%|          | 0/10 [00:00<?, ?it/s]/tmp/ipykernel_106465/881416245.py:49: UserWarning: No artists with labels found to put in legend.  Note that artists whose label start with an underscore are ignored when legend() is called with no argument.\n",
      "  ax.legend(fontsize=10)\n",
      "100%|██████████| 10/10 [00:02<00:00,  4.54it/s]\n"
     ]
    },
    {
     "name": "stdout",
     "output_type": "stream",
     "text": [
      "✅ GIF guardado en compare_bs16_sgd_lr0.0005.gif\n",
      "\n",
      "🟢 Creando GIF para bs16_adam_lr0.001\n",
      "🎞️  Generando 10 frames para bs16_adam_lr0.001…\n"
     ]
    },
    {
     "name": "stderr",
     "output_type": "stream",
     "text": [
      "  0%|          | 0/10 [00:00<?, ?it/s]/tmp/ipykernel_106465/881416245.py:49: UserWarning: No artists with labels found to put in legend.  Note that artists whose label start with an underscore are ignored when legend() is called with no argument.\n",
      "  ax.legend(fontsize=10)\n",
      "100%|██████████| 10/10 [00:01<00:00,  5.58it/s]\n"
     ]
    },
    {
     "name": "stdout",
     "output_type": "stream",
     "text": [
      "✅ GIF guardado en compare_bs16_adam_lr0.001.gif\n",
      "\n",
      "🟢 Creando GIF para bs16_adam_lr0.0005\n",
      "🎞️  Generando 10 frames para bs16_adam_lr0.0005…\n"
     ]
    },
    {
     "name": "stderr",
     "output_type": "stream",
     "text": [
      "  0%|          | 0/10 [00:00<?, ?it/s]/tmp/ipykernel_106465/881416245.py:49: UserWarning: No artists with labels found to put in legend.  Note that artists whose label start with an underscore are ignored when legend() is called with no argument.\n",
      "  ax.legend(fontsize=10)\n",
      "100%|██████████| 10/10 [00:01<00:00,  5.52it/s]\n"
     ]
    },
    {
     "name": "stdout",
     "output_type": "stream",
     "text": [
      "✅ GIF guardado en compare_bs16_adam_lr0.0005.gif\n",
      "\n",
      "🟢 Creando GIF para bs64_sgd_lr0.001\n",
      "🎞️  Generando 10 frames para bs64_sgd_lr0.001…\n"
     ]
    },
    {
     "name": "stderr",
     "output_type": "stream",
     "text": [
      "  0%|          | 0/10 [00:00<?, ?it/s]/tmp/ipykernel_106465/881416245.py:49: UserWarning: No artists with labels found to put in legend.  Note that artists whose label start with an underscore are ignored when legend() is called with no argument.\n",
      "  ax.legend(fontsize=10)\n",
      "100%|██████████| 10/10 [00:02<00:00,  4.72it/s]\n"
     ]
    },
    {
     "name": "stdout",
     "output_type": "stream",
     "text": [
      "✅ GIF guardado en compare_bs64_sgd_lr0.001.gif\n",
      "\n",
      "🟢 Creando GIF para bs64_sgd_lr0.0005\n",
      "🎞️  Generando 10 frames para bs64_sgd_lr0.0005…\n"
     ]
    },
    {
     "name": "stderr",
     "output_type": "stream",
     "text": [
      "  0%|          | 0/10 [00:00<?, ?it/s]/tmp/ipykernel_106465/881416245.py:49: UserWarning: No artists with labels found to put in legend.  Note that artists whose label start with an underscore are ignored when legend() is called with no argument.\n",
      "  ax.legend(fontsize=10)\n",
      "100%|██████████| 10/10 [00:01<00:00,  5.17it/s]\n"
     ]
    },
    {
     "name": "stdout",
     "output_type": "stream",
     "text": [
      "✅ GIF guardado en compare_bs64_sgd_lr0.0005.gif\n",
      "\n",
      "🟢 Creando GIF para bs64_adam_lr0.001\n",
      "🎞️  Generando 10 frames para bs64_adam_lr0.001…\n"
     ]
    },
    {
     "name": "stderr",
     "output_type": "stream",
     "text": [
      "  0%|          | 0/10 [00:00<?, ?it/s]/tmp/ipykernel_106465/881416245.py:49: UserWarning: No artists with labels found to put in legend.  Note that artists whose label start with an underscore are ignored when legend() is called with no argument.\n",
      "  ax.legend(fontsize=10)\n",
      "100%|██████████| 10/10 [00:02<00:00,  4.24it/s]\n"
     ]
    },
    {
     "name": "stdout",
     "output_type": "stream",
     "text": [
      "✅ GIF guardado en compare_bs64_adam_lr0.001.gif\n",
      "\n",
      "🟢 Creando GIF para bs64_adam_lr0.0005\n",
      "🎞️  Generando 10 frames para bs64_adam_lr0.0005…\n"
     ]
    },
    {
     "name": "stderr",
     "output_type": "stream",
     "text": [
      "  0%|          | 0/10 [00:00<?, ?it/s]/tmp/ipykernel_106465/881416245.py:49: UserWarning: No artists with labels found to put in legend.  Note that artists whose label start with an underscore are ignored when legend() is called with no argument.\n",
      "  ax.legend(fontsize=10)\n",
      "100%|██████████| 10/10 [00:02<00:00,  4.91it/s]\n"
     ]
    },
    {
     "name": "stdout",
     "output_type": "stream",
     "text": [
      "✅ GIF guardado en compare_bs64_adam_lr0.0005.gif\n",
      "\n",
      "🟢 Creando GIF para bs256_sgd_lr0.001\n",
      "🎞️  Generando 10 frames para bs256_sgd_lr0.001…\n"
     ]
    },
    {
     "name": "stderr",
     "output_type": "stream",
     "text": [
      "  0%|          | 0/10 [00:00<?, ?it/s]/tmp/ipykernel_106465/881416245.py:49: UserWarning: No artists with labels found to put in legend.  Note that artists whose label start with an underscore are ignored when legend() is called with no argument.\n",
      "  ax.legend(fontsize=10)\n",
      "100%|██████████| 10/10 [00:01<00:00,  5.14it/s]\n"
     ]
    },
    {
     "name": "stdout",
     "output_type": "stream",
     "text": [
      "✅ GIF guardado en compare_bs256_sgd_lr0.001.gif\n",
      "\n",
      "🟢 Creando GIF para bs256_sgd_lr0.0005\n",
      "🎞️  Generando 10 frames para bs256_sgd_lr0.0005…\n"
     ]
    },
    {
     "name": "stderr",
     "output_type": "stream",
     "text": [
      "  0%|          | 0/10 [00:00<?, ?it/s]/tmp/ipykernel_106465/881416245.py:49: UserWarning: No artists with labels found to put in legend.  Note that artists whose label start with an underscore are ignored when legend() is called with no argument.\n",
      "  ax.legend(fontsize=10)\n",
      "100%|██████████| 10/10 [00:02<00:00,  4.87it/s]\n"
     ]
    },
    {
     "name": "stdout",
     "output_type": "stream",
     "text": [
      "✅ GIF guardado en compare_bs256_sgd_lr0.0005.gif\n",
      "\n",
      "🟢 Creando GIF para bs256_adam_lr0.001\n",
      "🎞️  Generando 10 frames para bs256_adam_lr0.001…\n"
     ]
    },
    {
     "name": "stderr",
     "output_type": "stream",
     "text": [
      "  0%|          | 0/10 [00:00<?, ?it/s]/tmp/ipykernel_106465/881416245.py:49: UserWarning: No artists with labels found to put in legend.  Note that artists whose label start with an underscore are ignored when legend() is called with no argument.\n",
      "  ax.legend(fontsize=10)\n",
      "100%|██████████| 10/10 [00:01<00:00,  5.81it/s]\n"
     ]
    },
    {
     "name": "stdout",
     "output_type": "stream",
     "text": [
      "✅ GIF guardado en compare_bs256_adam_lr0.001.gif\n",
      "\n",
      "🟢 Creando GIF para bs256_adam_lr0.0005\n",
      "🎞️  Generando 10 frames para bs256_adam_lr0.0005…\n"
     ]
    },
    {
     "name": "stderr",
     "output_type": "stream",
     "text": [
      "  0%|          | 0/10 [00:00<?, ?it/s]/tmp/ipykernel_106465/881416245.py:49: UserWarning: No artists with labels found to put in legend.  Note that artists whose label start with an underscore are ignored when legend() is called with no argument.\n",
      "  ax.legend(fontsize=10)\n",
      "100%|██████████| 10/10 [00:02<00:00,  4.38it/s]\n"
     ]
    },
    {
     "name": "stdout",
     "output_type": "stream",
     "text": [
      "✅ GIF guardado en compare_bs256_adam_lr0.0005.gif\n",
      "\n",
      "🟢 Creando GIF para bs2048_sgd_lr0.001\n",
      "🎞️  Generando 10 frames para bs2048_sgd_lr0.001…\n"
     ]
    },
    {
     "name": "stderr",
     "output_type": "stream",
     "text": [
      "  0%|          | 0/10 [00:00<?, ?it/s]/tmp/ipykernel_106465/881416245.py:49: UserWarning: No artists with labels found to put in legend.  Note that artists whose label start with an underscore are ignored when legend() is called with no argument.\n",
      "  ax.legend(fontsize=10)\n",
      "100%|██████████| 10/10 [00:01<00:00,  6.76it/s]\n"
     ]
    },
    {
     "name": "stdout",
     "output_type": "stream",
     "text": [
      "✅ GIF guardado en compare_bs2048_sgd_lr0.001.gif\n",
      "\n",
      "🟢 Creando GIF para bs2048_sgd_lr0.0005\n",
      "🎞️  Generando 10 frames para bs2048_sgd_lr0.0005…\n"
     ]
    },
    {
     "name": "stderr",
     "output_type": "stream",
     "text": [
      "  0%|          | 0/10 [00:00<?, ?it/s]/tmp/ipykernel_106465/881416245.py:49: UserWarning: No artists with labels found to put in legend.  Note that artists whose label start with an underscore are ignored when legend() is called with no argument.\n",
      "  ax.legend(fontsize=10)\n",
      "100%|██████████| 10/10 [00:01<00:00,  6.56it/s]\n"
     ]
    },
    {
     "name": "stdout",
     "output_type": "stream",
     "text": [
      "✅ GIF guardado en compare_bs2048_sgd_lr0.0005.gif\n",
      "\n",
      "🟢 Creando GIF para bs2048_adam_lr0.001\n",
      "🎞️  Generando 10 frames para bs2048_adam_lr0.001…\n"
     ]
    },
    {
     "name": "stderr",
     "output_type": "stream",
     "text": [
      "  0%|          | 0/10 [00:00<?, ?it/s]/tmp/ipykernel_106465/881416245.py:49: UserWarning: No artists with labels found to put in legend.  Note that artists whose label start with an underscore are ignored when legend() is called with no argument.\n",
      "  ax.legend(fontsize=10)\n",
      "100%|██████████| 10/10 [00:01<00:00,  5.56it/s]\n"
     ]
    },
    {
     "name": "stdout",
     "output_type": "stream",
     "text": [
      "✅ GIF guardado en compare_bs2048_adam_lr0.001.gif\n",
      "\n",
      "🟢 Creando GIF para bs2048_adam_lr0.0005\n",
      "🎞️  Generando 10 frames para bs2048_adam_lr0.0005…\n"
     ]
    },
    {
     "name": "stderr",
     "output_type": "stream",
     "text": [
      "  0%|          | 0/10 [00:00<?, ?it/s]/tmp/ipykernel_106465/881416245.py:49: UserWarning: No artists with labels found to put in legend.  Note that artists whose label start with an underscore are ignored when legend() is called with no argument.\n",
      "  ax.legend(fontsize=10)\n",
      "100%|██████████| 10/10 [00:01<00:00,  6.85it/s]\n"
     ]
    },
    {
     "name": "stdout",
     "output_type": "stream",
     "text": [
      "✅ GIF guardado en compare_bs2048_adam_lr0.0005.gif\n"
     ]
    }
   ],
   "source": [
    "frameworks  = [\"keras\", \"torch\", \"sklearn\"]\n",
    "batch_sizes = [16, 64, 256, 2048]\n",
    "optimizers  = [\"sgd\", \"adam\"]\n",
    "lrs         = [0.001, 0.0005]\n",
    "\n",
    "for bs, opt, lr in itertools.product(batch_sizes, optimizers, lrs):\n",
    "    tag = f\"bs{bs}_{opt}_lr{lr}\"\n",
    "    print(f\"\\n🟢 Creando GIF para {tag}\")\n",
    "    gif_config_progress(tag, n_frames=10, fps=6, y_max=8)"
   ]
  },
  {
   "cell_type": "code",
   "execution_count": 3,
   "id": "89173d00",
   "metadata": {},
   "outputs": [
    {
     "name": "stdout",
     "output_type": "stream",
     "text": [
      "🎞️  Generando 200 frames para torch…\n"
     ]
    },
    {
     "name": "stderr",
     "output_type": "stream",
     "text": [
      "  0%|          | 0/200 [00:00<?, ?it/s]/tmp/ipykernel_108749/1703311414.py:32: UserWarning: No artists with labels found to put in legend.  Note that artists whose label start with an underscore are ignored when legend() is called with no argument.\n",
      "  ax.legend(fontsize=6, ncol=2, loc=\"upper right\", frameon=False)\n",
      "100%|██████████| 200/200 [01:26<00:00,  2.32it/s]\n"
     ]
    },
    {
     "name": "stdout",
     "output_type": "stream",
     "text": [
      "✅ GIF guardado en torch_all_configs.gif\n",
      "🎞️  Generando 200 frames para sklearn…\n"
     ]
    },
    {
     "name": "stderr",
     "output_type": "stream",
     "text": [
      "  0%|          | 0/200 [00:00<?, ?it/s]/tmp/ipykernel_108749/1703311414.py:32: UserWarning: No artists with labels found to put in legend.  Note that artists whose label start with an underscore are ignored when legend() is called with no argument.\n",
      "  ax.legend(fontsize=6, ncol=2, loc=\"upper right\", frameon=False)\n",
      "100%|██████████| 200/200 [00:50<00:00,  3.93it/s]\n"
     ]
    },
    {
     "name": "stdout",
     "output_type": "stream",
     "text": [
      "✅ GIF guardado en sklearn_all_configs.gif\n"
     ]
    }
   ],
   "source": [
    "def gif_framework_progress(framework, n_frames=200, fps=12):\n",
    "    csv_files = sorted(glob.glob(f\"csv_logs/{framework}_*.csv\"))\n",
    "    if not csv_files:\n",
    "        print(\"❌ No se encontraron CSV para\", framework)\n",
    "        return\n",
    "    \n",
    "    # Cargar todas las curvas\n",
    "    curves, max_time = [], 0\n",
    "    for path in csv_files:\n",
    "        df = pd.read_csv(path)\n",
    "        t, l = df[\"time_s\"].values, df[\"loss\"].values\n",
    "        curves.append((os.path.basename(path).replace(\".csv\", \"\"), t, l))\n",
    "        max_time = max(max_time, t[-1])\n",
    "    \n",
    "    frame_times = np.linspace(0, max_time, n_frames)\n",
    "    frames = []\n",
    "    print(f\"🎞️  Generando {n_frames} frames para {framework}…\")\n",
    "    for t_cut in tqdm(frame_times):\n",
    "        fig, ax = plt.subplots(figsize=(12,8))\n",
    "        for label, t, l in curves:\n",
    "            idx = np.searchsorted(t, t_cut, side=\"right\")\n",
    "            if idx > 1:\n",
    "                # suavizamos solo lo que vamos a dibujar\n",
    "                l_smooth = smooth(l[:idx])\n",
    "                t_smooth = t[:len(l_smooth)]\n",
    "                ax.plot(t_smooth, l_smooth, label=label, linewidth=2)\n",
    "\n",
    "        ax.set(xlim=(0, math.ceil(max_time)), ylim=(0,10),\n",
    "               xlabel=\"Tiempo [s]\", ylabel=\"Pérdida\",\n",
    "               title=f\"{framework.upper()} – hasta {t_cut:0.1f}s\")\n",
    "        ax.grid(alpha=0.3)\n",
    "        ax.legend(fontsize=6, ncol=2, loc=\"upper right\", frameon=False)\n",
    "        fig.tight_layout()\n",
    "        \n",
    "        # ─── convertir figura a array ───\n",
    "        buf = io.BytesIO()\n",
    "        fig.savefig(buf, format=\"png\")       # guarda figura en memoria\n",
    "        plt.close(fig)\n",
    "        buf.seek(0)\n",
    "        frames.append(imageio.v2.imread(buf))  # lee PNG desde el buffer\n",
    "\n",
    "    gif_name = f\"{framework}_all_configs.gif\"\n",
    "    imageio.mimsave(gif_name, frames, fps=fps)\n",
    "    print(\"✅ GIF guardado en\", gif_name)\n",
    "\n",
    "\n",
    "#gif_framework_progress(\"keras\")\n",
    "gif_framework_progress(\"torch\")\n",
    "gif_framework_progress(\"sklearn\")   # o \"torch\", \"sklearn\"\n"
   ]
  },
  {
   "cell_type": "code",
   "execution_count": 1,
   "id": "761ff7ff",
   "metadata": {},
   "outputs": [
    {
     "name": "stdout",
     "output_type": "stream",
     "text": [
      "\n",
      "🌟 Mejor configuración según el promedio de las últimas 10 pérdidas:\n",
      "   torch_bs2048_adam_lr0.001   ⇒   avg_loss = 0.0120\n"
     ]
    }
   ],
   "source": [
    "import glob, os, pandas as pd\n",
    "import numpy as np\n",
    "\n",
    "CSV_DIR = \"csv_logs\"\n",
    "\n",
    "def avg_last_losses(path, k=10):\n",
    "    \"\"\"Devuelve el promedio de las k últimas pérdidas del CSV.\"\"\"\n",
    "    df = pd.read_csv(path)\n",
    "    losses = df[\"loss\"].values\n",
    "    if len(losses) == 0:\n",
    "        return np.inf          # archivo vacío → descártalo\n",
    "    # Si hay menos de k muestras, promedia lo que haya\n",
    "    return float(np.mean(losses[-k:]))\n",
    "\n",
    "def find_best_config(csv_dir=CSV_DIR, k=10):\n",
    "    best_tag, best_val = None, np.inf\n",
    "    for csv_path in glob.glob(os.path.join(csv_dir, \"*.csv\")):\n",
    "        # extrae la configuración completa del nombre del archivo\n",
    "        # ej.: keras_bs256_adam_lr0.001.csv\n",
    "        tag_full = os.path.basename(csv_path).replace(\".csv\", \"\")\n",
    "        # calculamos el promedio de los k últimos pasos\n",
    "        val = avg_last_losses(csv_path, k=k)\n",
    "        if val < best_val:\n",
    "            best_val = val\n",
    "            best_tag = tag_full\n",
    "    return best_tag, best_val\n",
    "\n",
    "if __name__ == \"__main__\":\n",
    "    k = 10\n",
    "    tag, val = find_best_config(k=k)\n",
    "    if tag:\n",
    "        print(f\"\\n🌟 Mejor configuración según el promedio de las \"\n",
    "              f\"últimas {k} pérdidas:\")\n",
    "        print(f\"   {tag}   ⇒   avg_loss = {val:.4f}\")\n",
    "    else:\n",
    "        print(\"No se encontraron archivos CSV en\", CSV_DIR)\n"
   ]
  },
  {
   "cell_type": "code",
   "execution_count": 4,
   "id": "091ce94a",
   "metadata": {},
   "outputs": [
    {
     "name": "stdout",
     "output_type": "stream",
     "text": [
      "\n",
      "🏆  TOP 10 configuraciones (promedio de las últimas 10 pérdidas):\n",
      " 1. torch_bs2048_adam_lr0.001                 avg_loss = 0.0120\n",
      " 2. torch_bs256_adam_lr0.0005                 avg_loss = 0.0234\n",
      " 3. torch_bs256_adam_lr0.001                  avg_loss = 0.0365\n",
      " 4. torch_bs64_adam_lr0.0005                  avg_loss = 0.1391\n",
      " 5. torch_bs64_adam_lr0.001                   avg_loss = 0.1664\n",
      " 6. keras_bs2048_adam_lr0.001                 avg_loss = 0.1718\n",
      " 7. keras_bs256_adam_lr0.0005                 avg_loss = 0.1925\n",
      " 8. keras_bs256_adam_lr0.001                  avg_loss = 0.2137\n",
      " 9. keras_bs64_adam_lr0.0005                  avg_loss = 0.4202\n",
      "10. keras_bs2048_adam_lr0.0005                avg_loss = 0.5016\n"
     ]
    }
   ],
   "source": [
    "import glob, os, pandas as pd\n",
    "import numpy as np\n",
    "\n",
    "CSV_DIR = \"csv_logs\"   # carpeta donde guardas los *.csv\n",
    "K_LAST  = 10           # cuántos pasos finales promediar\n",
    "\n",
    "def avg_last_losses(path, k=K_LAST):\n",
    "    \"\"\"Promedio de las k últimas pérdidas del CSV (o menos si hay pocos datos).\"\"\"\n",
    "    df = pd.read_csv(path)\n",
    "    return float(df[\"loss\"].tail(k).mean()) if not df.empty else np.inf\n",
    "\n",
    "def top_configs(csv_dir=CSV_DIR, k_last=K_LAST, top_n=10):\n",
    "    entries = []\n",
    "    for csv_path in glob.glob(os.path.join(csv_dir, \"*.csv\")):\n",
    "        tag  = os.path.basename(csv_path).replace(\".csv\", \"\")  # nombre sin extensión\n",
    "        loss = avg_last_losses(csv_path, k=k_last)\n",
    "        if np.isfinite(loss):\n",
    "            entries.append((loss, tag))        # (valor, configuración)\n",
    "\n",
    "    # Ordena por menor pérdida y toma los top_n\n",
    "    return sorted(entries, key=lambda x: x[0])[:top_n]\n",
    "\n",
    "if __name__ == \"__main__\":\n",
    "    top10 = top_configs(top_n=10)\n",
    "    if top10:\n",
    "        print(f\"\\n🏆  TOP 10 configuraciones (promedio de las últimas {K_LAST} pérdidas):\")\n",
    "        for rank, (loss, tag) in enumerate(top10, start=1):\n",
    "            print(f\"{rank:2d}. {tag:<40}  avg_loss = {loss:.4f}\")\n",
    "    else:\n",
    "        print(\"No se encontraron archivos CSV en\", CSV_DIR)\n"
   ]
  }
 ],
 "metadata": {
  "kernelspec": {
   "display_name": "deeplearning",
   "language": "python",
   "name": "python3"
  },
  "language_info": {
   "codemirror_mode": {
    "name": "ipython",
    "version": 3
   },
   "file_extension": ".py",
   "mimetype": "text/x-python",
   "name": "python",
   "nbconvert_exporter": "python",
   "pygments_lexer": "ipython3",
   "version": "3.10.18"
  }
 },
 "nbformat": 4,
 "nbformat_minor": 5
}
