{
 "cells": [
  {
   "cell_type": "code",
   "execution_count": null,
   "id": "ce8e9a92",
   "metadata": {
    "vscode": {
     "languageId": "plaintext"
    }
   },
   "outputs": [],
   "source": [
    "import torch\n",
    "import tensorflow as tf\n",
    "\n",
    "print(\"--- Verificación de PyTorch ---\")\n",
    "if torch.cuda.is_available():\n",
    "    print(f\"✅ PyTorch: GPU disponible! 🔥\")\n",
    "    print(f\"Nombre de la GPU: {torch.cuda.get_device_name(0)}\\n\")\n",
    "else:\n",
    "    print(\"❌ PyTorch: GPU no disponible.\\n\")\n",
    "\n",
    "print(\"--- Verificación de TensorFlow ---\")\n",
    "if tf.config.list_physical_devices('GPU'):\n",
    "    print(f\"✅ TensorFlow: GPU disponible! 🔥\")\n",
    "    for gpu in tf.config.list_physical_devices('GPU'):\n",
    "        print(f\"Nombre de la GPU: {gpu.name}\")\n",
    "else:\n",
    "    print(\"❌ TensorFlow: GPU no disponible.\")"
   ]
  }
 ],
 "metadata": {
  "language_info": {
   "name": "python"
  }
 },
 "nbformat": 4,
 "nbformat_minor": 5
}
