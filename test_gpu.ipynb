{
 "cells": [
  {
   "cell_type": "code",
   "execution_count": 2,
   "id": "ce8e9a92",
   "metadata": {},
   "outputs": [
    {
     "name": "stdout",
     "output_type": "stream",
     "text": [
      "--- Verificación de PyTorch ---\n",
      "✅ PyTorch: GPU disponible! 🔥\n",
      "Nombre de la GPU: NVIDIA GeForce GTX 1650\n",
      "\n",
      "--- Verificación de TensorFlow ---\n",
      "✅ TensorFlow: GPU disponible! 🔥\n",
      "Nombre de la GPU: /physical_device:GPU:0\n"
     ]
    }
   ],
   "source": [
    "import torch\n",
    "import tensorflow as tf\n",
    "\n",
    "print(\"--- Verificación de PyTorch ---\")\n",
    "if torch.cuda.is_available():\n",
    "    print(f\"✅ PyTorch: GPU disponible! 🔥\")\n",
    "    print(f\"Nombre de la GPU: {torch.cuda.get_device_name(0)}\\n\")\n",
    "else:\n",
    "    print(\"❌ PyTorch: GPU no disponible.\\n\")\n",
    "\n",
    "print(\"--- Verificación de TensorFlow ---\")\n",
    "if tf.config.list_physical_devices('GPU'):\n",
    "    print(f\"✅ TensorFlow: GPU disponible! 🔥\")\n",
    "    for gpu in tf.config.list_physical_devices('GPU'):\n",
    "        print(f\"Nombre de la GPU: {gpu.name}\")\n",
    "else:\n",
    "    print(\"❌ TensorFlow: GPU no disponible.\")"
   ]
  }
 ],
 "metadata": {
  "kernelspec": {
   "display_name": "deeplearning",
   "language": "python",
   "name": "python3"
  },
  "language_info": {
   "codemirror_mode": {
    "name": "ipython",
    "version": 3
   },
   "file_extension": ".py",
   "mimetype": "text/x-python",
   "name": "python",
   "nbconvert_exporter": "python",
   "pygments_lexer": "ipython3",
   "version": "3.10.18"
  }
 },
 "nbformat": 4,
 "nbformat_minor": 5
}
